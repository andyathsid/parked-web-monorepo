{
  "cells": [
    {
      "cell_type": "code",
      "execution_count": null,
      "metadata": {
        "colab": {
          "base_uri": "https://localhost:8080/",
          "height": 34
        },
        "colab_type": "code",
        "id": "HA2RgOaszM47",
        "outputId": "a782c654-6163-4f81-b28f-dec1f757c49b"
      },
      "outputs": [
        {
          "name": "stdout",
          "output_type": "stream",
          "text": [
            "Found GPU at: /device:GPU:0\n"
          ]
        }
      ],
      "source": [
        "from __future__ import absolute_import, division, print_function, unicode_literals\n",
        "import tensorflow as tf\n",
        "device_name = tf.test.gpu_device_name()\n",
        "if device_name != '/device:GPU:0':\n",
        "  raise SystemError('GPU device not found')\n",
        "print('Found GPU at: {}'.format(device_name))\n",
        "from tensorflow import keras\n",
        "import numpy as np\n",
        "import cv2\n",
        "import os\n",
        "import random\n",
        "import matplotlib.pyplot as plt\n",
        "from tensorflow.keras.models import Sequential\n",
        "from tensorflow.keras.layers import Convolution2D\n",
        "from tensorflow.keras.layers import MaxPooling2D\n",
        "from tensorflow.keras.layers import Flatten\n",
        "from tensorflow.keras.layers import Dense\n",
        "from tensorflow.keras.callbacks import TensorBoard,EarlyStopping\n",
        "import datetime\n",
        "import time\n",
        "import math as m\n"
      ]
    },
    {
      "cell_type": "markdown",
      "metadata": {
        "colab_type": "text",
        "id": "V_PKwqBe0ajO"
      },
      "source": [
        "# *DATASET* preparation"
      ]
    },
    {
      "cell_type": "code",
      "execution_count": null,
      "metadata": {
        "colab": {},
        "colab_type": "code",
        "id": "QHqD1AqozM6P"
      },
      "outputs": [],
      "source": [
        "#dataset preparartion class to make it easier to load the data\n",
        "class DataSet:\n",
        "    \n",
        "    def __init__(me,location,categories,resize=True,\n",
        "                 lheight=500,lwidth=500,grayscale=True,shuffled=False,\n",
        "                 apply=None,count=1000,multiclass=False,enhance=False):\n",
        "        me.categories=categories\n",
        "        me.datadir=location\n",
        "        me.lheight=lheight\n",
        "        me.lwidth=lwidth\n",
        "        me.grayscale=grayscale\n",
        "        me.shuffled=shuffled\n",
        "        me.multiclass=multiclass\n",
        "        me.apply=apply\n",
        "        me.count=count\n",
        "        me.enhance=enhance\n",
        "        me.dataset=me.create_traindata()\n",
        "        if resize==True:\n",
        "            me.dataset=me.resizeIt(me.dataset)\n",
        "\n",
        "        \n",
        "        \n",
        "    \n",
        "    def resizeIt(me,traindata_array):\n",
        "        resized_traindata=[]\n",
        "        resized_traindata_temp=[]\n",
        "        for img in traindata_array[0]:\n",
        "            \n",
        "            new_image_array=cv2.resize(img,(me.lheight,me.lwidth))\n",
        "            resized_traindata_temp.append(np.array(new_image_array))\n",
        "        array=[np.array(resized_traindata_temp),np.array(traindata_array[1])]\n",
        "        return(array)\n",
        "\n",
        "\n",
        "\n",
        "    def create_traindata(me):\n",
        "        traindata=[]\n",
        "        for cats in me.categories:\n",
        "            n=0\n",
        "            path=os.path.join(me.datadir,cats)\n",
        "            class_num=me.categories.index(cats)\n",
        "            for img in os.listdir(path):\n",
        "                if(me.grayscale==True and me.enhance==True):\n",
        "                    y=cv2.imread(os.path.join(path,img),cv2.IMREAD_GRAYSCALE)\n",
        "\n",
        "                    y=cv2.resize(y,(512,512))\n",
        "\n",
        "\n",
        "                    clahe = cv2.createCLAHE(clipLimit=1.0, tileGridSize=(5,5))\n",
        "                    img_array = clahe.apply(y)\n",
        "\n",
        "                    img_array = cv2.GaussianBlur(y,(3,3),1)\n",
        "\n",
        "\n",
        "                    n=n+1\n",
        "                    print(str(n)+\" images loaded successfully\",end='')\n",
        "                    if n>=me.count:\n",
        "                      break\n",
        "                \n",
        "                elif(me.enhance==True):\n",
        "                    img_array=cv2.imread(os.path.join(path,img))\n",
        "\n",
        "                    img_array=cv2.resize(img_array,(512,512))\n",
        "\n",
        "                    img_yuv_1 = cv2.cvtColor(img_array,cv2.COLOR_BGR2RGB)\n",
        "\n",
        "                    \n",
        "                    img_yuv = cv2.cvtColor(img_yuv_1,cv2.COLOR_RGB2YUV)\n",
        "\n",
        "                    y,u,v = cv2.split(img_yuv)\n",
        "\n",
        "                    \n",
        "\n",
        "                    clahe = cv2.createCLAHE(clipLimit=1.0, tileGridSize=(5,5))\n",
        "                    y = clahe.apply(y)\n",
        "\n",
        "                    y = cv2.GaussianBlur(y,(3,3),1)\n",
        "\n",
        "                    img_array_1 = cv2.merge((y,u,v))\n",
        "                    img_array = cv2.cvtColor(img_array_1,cv2.COLOR_YUV2RGB)\n",
        "                    \n",
        "                    n=n+1\n",
        "                    print(str(n)+\" images loaded successfully\",end='')\n",
        "                    if n>=me.count:\n",
        "                      break\n",
        "                else:\n",
        "                    img_array=cv2.imread(os.path.join(path,img))\n",
        "\n",
        "                    n=n+1\n",
        "                    print(str(n)+\" images loaded successfully\",end='')\n",
        "                    if n>=me.count:\n",
        "                      break\n",
        "                if(me.multiclass==False):\n",
        "                    traindata.append([img_array,class_num])\n",
        "                else:\n",
        "                    traindata.append([img_array,me.classes(class_num=class_num,classes=len(me.categories))])\n",
        "            print(len(traindata))\n",
        "            print()\n",
        "            \n",
        "        if(me.shuffled==True):\n",
        "          random.shuffle(traindata)\n",
        "          print(\"shuffled\")\n",
        "        traindata_img=[]\n",
        "        traindata_lab=[]\n",
        "        for sets in traindata:\n",
        "            traindata_img.append(sets[0])\n",
        "            traindata_lab.append(sets[1])\n",
        "        traindata=[traindata_img,traindata_lab]\n",
        "        return(traindata)\n",
        "\n",
        "    def classes(me,class_num,classes):\n",
        "        array = [0 for i in range(classes)]\n",
        "        array[class_num]=1\n",
        "        return(array)\n"
      ]
    },
    {
      "cell_type": "markdown",
      "metadata": {
        "colab_type": "text",
        "id": "_McRGF5lntUp"
      },
      "source": [
        "# **Training Phase**"
      ]
    },
    {
      "cell_type": "code",
      "execution_count": null,
      "metadata": {
        "colab": {
          "base_uri": "https://localhost:8080/",
          "height": 122
        },
        "colab_type": "code",
        "id": "STxdZjSszM6U",
        "outputId": "014e9b99-4f46-4dab-b9eb-20d3f70a50a2"
      },
      "outputs": [
        {
          "name": "stdout",
          "output_type": "stream",
          "text": [
            "1 images loaded successfully2 images loaded successfully3 images loaded successfully4 images loaded successfully5 images loaded successfully6 images loaded successfully7 images loaded successfully8 images loaded successfully9 images loaded successfully10 images loaded successfully11 images loaded successfully12 images loaded successfully13 images loaded successfully14 images loaded successfully15 images loaded successfully16 images loaded successfully17 images loaded successfully18 images loaded successfully19 images loaded successfully20 images loaded successfully21 images loaded successfully22 images loaded successfully23 images loaded successfully24 images loaded successfully25 images loaded successfully26 images loaded successfully27 images loaded successfully28 images loaded successfully29 images loaded successfully30 images loaded successfully31 images loaded successfully32 images loaded successfully33 images loaded successfully34 images loaded successfully35 images loaded successfully36 images loaded successfully37 images loaded successfully38 images loaded successfully39 images loaded successfully40 images loaded successfully41 images loaded successfully42 images loaded successfully43 images loaded successfully44 images loaded successfully45 images loaded successfully46 images loaded successfully47 images loaded successfully48 images loaded successfully49 images loaded successfully50 images loaded successfully51 images loaded successfully52 images loaded successfully53 images loaded successfully54 images loaded successfully55 images loaded successfully56 images loaded successfully57 images loaded successfully58 images loaded successfully59 images loaded successfully60 images loaded successfully61 images loaded successfully62 images loaded successfully63 images loaded successfully64 images loaded successfully65 images loaded successfully66 images loaded successfully67 images loaded successfully68 images loaded successfully69 images loaded successfully70 images loaded successfully71 images loaded successfully72 images loaded successfully73 images loaded successfully74 images loaded successfully75 images loaded successfully76 images loaded successfully77 images loaded successfully78 images loaded successfully79 images loaded successfully80 images loaded successfully81 images loaded successfully82 images loaded successfully83 images loaded successfully84 images loaded successfully85 images loaded successfully86 images loaded successfully87 images loaded successfully88 images loaded successfully89 images loaded successfully90 images loaded successfully91 images loaded successfully92 images loaded successfully93 images loaded successfully94 images loaded successfully95 images loaded successfully96 images loaded successfully97 images loaded successfully98 images loaded successfully99 images loaded successfully100 images loaded successfully101 images loaded successfully102 images loaded successfully103 images loaded successfully104 images loaded successfully105 images loaded successfully106 images loaded successfully107 images loaded successfully108 images loaded successfully109 images loaded successfully110 images loaded successfully111 images loaded successfully112 images loaded successfully113 images loaded successfully114 images loaded successfully115 images loaded successfully116 images loaded successfully117 images loaded successfully118 images loaded successfully119 images loaded successfully120 images loaded successfully121 images loaded successfully122 images loaded successfully123 images loaded successfully124 images loaded successfully125 images loaded successfully126 images loaded successfully127 images loaded successfully128 images loaded successfully129 images loaded successfully130 images loaded successfully131 images loaded successfully132 images loaded successfully133 images loaded successfully134 images loaded successfully135 images loaded successfully136 images loaded successfully137 images loaded successfully138 images loaded successfully139 images loaded successfully140 images loaded successfully141 images loaded successfully142 images loaded successfully143 images loaded successfully144 images loaded successfully145 images loaded successfully146 images loaded successfully147 images loaded successfully148 images loaded successfully149 images loaded successfully150 images loaded successfully151 images loaded successfully152 images loaded successfully153 images loaded successfully154 images loaded successfully155 images loaded successfully156 images loaded successfully157 images loaded successfully158 images loaded successfully159 images loaded successfully160 images loaded successfully161 images loaded successfully162 images loaded successfully163 images loaded successfully164 images loaded successfully165 images loaded successfully166 images loaded successfully167 images loaded successfully168 images loaded successfully169 images loaded successfully170 images loaded successfully171 images loaded successfully172 images loaded successfully173 images loaded successfully174 images loaded successfully175 images loaded successfully176 images loaded successfully177 images loaded successfully178 images loaded successfully179 images loaded successfully180 images loaded successfully181 images loaded successfully182 images loaded successfully183 images loaded successfully184 images loaded successfully185 images loaded successfully186 images loaded successfully187 images loaded successfully188 images loaded successfully189 images loaded successfully190 images loaded successfully191 images loaded successfully192 images loaded successfully193 images loaded successfully194 images loaded successfully195 images loaded successfully196 images loaded successfully197 images loaded successfully198 images loaded successfully199 images loaded successfully200 images loaded successfully201 images loaded successfully202 images loaded successfully203 images loaded successfully204 images loaded successfully205 images loaded successfully206 images loaded successfully207 images loaded successfully208 images loaded successfully209 images loaded successfully210 images loaded successfully211 images loaded successfully212 images loaded successfully213 images loaded successfully214 images loaded successfully215 images loaded successfully216 images loaded successfully217 images loaded successfully218 images loaded successfully219 images loaded successfully220 images loaded successfully221 images loaded successfully222 images loaded successfully223 images loaded successfully224 images loaded successfully225 images loaded successfully226 images loaded successfully227 images loaded successfully228 images loaded successfully229 images loaded successfully230 images loaded successfully231 images loaded successfully232 images loaded successfully233 images loaded successfully234 images loaded successfully235 images loaded successfully236 images loaded successfully237 images loaded successfully238 images loaded successfully239 images loaded successfully240 images loaded successfully241 images loaded successfully242 images loaded successfully243 images loaded successfully244 images loaded successfully245 images loaded successfully246 images loaded successfully247 images loaded successfully248 images loaded successfully249 images loaded successfully250 images loaded successfully251 images loaded successfully252 images loaded successfully253 images loaded successfully254 images loaded successfully255 images loaded successfully256 images loaded successfully257 images loaded successfully258 images loaded successfully259 images loaded successfully260 images loaded successfully261 images loaded successfully262 images loaded successfully263 images loaded successfully264 images loaded successfully265 images loaded successfully266 images loaded successfully267 images loaded successfully268 images loaded successfully269 images loaded successfully270 images loaded successfully271 images loaded successfully272 images loaded successfully273 images loaded successfully274 images loaded successfully275 images loaded successfully276 images loaded successfully277 images loaded successfully278 images loaded successfully279 images loaded successfully280 images loaded successfully281 images loaded successfully282 images loaded successfully283 images loaded successfully284 images loaded successfully285 images loaded successfully286 images loaded successfully287 images loaded successfully288 images loaded successfully289 images loaded successfully290 images loaded successfully291 images loaded successfully292 images loaded successfully293 images loaded successfully294 images loaded successfully295 images loaded successfully296 images loaded successfully297 images loaded successfully298 images loaded successfully299 images loaded successfully300 images loaded successfully301 images loaded successfully302 images loaded successfully303 images loaded successfully304 images loaded successfully305 images loaded successfully306 images loaded successfully307 images loaded successfully308 images loaded successfully309 images loaded successfully310 images loaded successfully311 images loaded successfully312 images loaded successfully312\n",
            "\n",
            "1 images loaded successfully2 images loaded successfully3 images loaded successfully4 images loaded successfully5 images loaded successfully6 images loaded successfully7 images loaded successfully8 images loaded successfully9 images loaded successfully10 images loaded successfully11 images loaded successfully12 images loaded successfully13 images loaded successfully14 images loaded successfully15 images loaded successfully16 images loaded successfully17 images loaded successfully18 images loaded successfully19 images loaded successfully20 images loaded successfully21 images loaded successfully22 images loaded successfully23 images loaded successfully24 images loaded successfully25 images loaded successfully26 images loaded successfully27 images loaded successfully28 images loaded successfully29 images loaded successfully30 images loaded successfully31 images loaded successfully32 images loaded successfully33 images loaded successfully34 images loaded successfully35 images loaded successfully36 images loaded successfully37 images loaded successfully38 images loaded successfully39 images loaded successfully40 images loaded successfully41 images loaded successfully42 images loaded successfully43 images loaded successfully44 images loaded successfully45 images loaded successfully46 images loaded successfully47 images loaded successfully48 images loaded successfully49 images loaded successfully50 images loaded successfully51 images loaded successfully52 images loaded successfully53 images loaded successfully54 images loaded successfully55 images loaded successfully56 images loaded successfully57 images loaded successfully58 images loaded successfully59 images loaded successfully60 images loaded successfully61 images loaded successfully62 images loaded successfully63 images loaded successfully64 images loaded successfully65 images loaded successfully66 images loaded successfully67 images loaded successfully68 images loaded successfully69 images loaded successfully70 images loaded successfully71 images loaded successfully72 images loaded successfully73 images loaded successfully74 images loaded successfully75 images loaded successfully76 images loaded successfully77 images loaded successfully78 images loaded successfully79 images loaded successfully80 images loaded successfully81 images loaded successfully82 images loaded successfully83 images loaded successfully84 images loaded successfully85 images loaded successfully86 images loaded successfully87 images loaded successfully88 images loaded successfully89 images loaded successfully90 images loaded successfully91 images loaded successfully92 images loaded successfully93 images loaded successfully94 images loaded successfully95 images loaded successfully96 images loaded successfully97 images loaded successfully98 images loaded successfully99 images loaded successfully100 images loaded successfully101 images loaded successfully102 images loaded successfully103 images loaded successfully104 images loaded successfully105 images loaded successfully106 images loaded successfully107 images loaded successfully108 images loaded successfully109 images loaded successfully110 images loaded successfully111 images loaded successfully112 images loaded successfully113 images loaded successfully114 images loaded successfully115 images loaded successfully116 images loaded successfully117 images loaded successfully118 images loaded successfully119 images loaded successfully120 images loaded successfully121 images loaded successfully122 images loaded successfully123 images loaded successfully124 images loaded successfully125 images loaded successfully126 images loaded successfully127 images loaded successfully128 images loaded successfully129 images loaded successfully130 images loaded successfully131 images loaded successfully132 images loaded successfully133 images loaded successfully134 images loaded successfully135 images loaded successfully136 images loaded successfully137 images loaded successfully138 images loaded successfully139 images loaded successfully140 images loaded successfully141 images loaded successfully142 images loaded successfully143 images loaded successfully144 images loaded successfully145 images loaded successfully146 images loaded successfully147 images loaded successfully148 images loaded successfully149 images loaded successfully150 images loaded successfully151 images loaded successfully152 images loaded successfully153 images loaded successfully154 images loaded successfully466\n",
            "\n",
            "shuffled\n"
          ]
        }
      ],
      "source": [
        "\n",
        "path=\"../data/raw/train\"\n",
        "\n",
        "class_names = ['c','p']\n",
        "\n",
        "\n",
        "dataset=DataSet(path,categories=class_names,lheight=512,\n",
        "                lwidth=512,grayscale=False,apply=None,\n",
        "                count=1000,shuffled=True,multiclass=True,enhance=True)\n",
        "\n",
        "\n",
        "data=dataset.dataset\n"
      ]
    },
    {
      "cell_type": "code",
      "execution_count": null,
      "metadata": {
        "colab": {
          "base_uri": "https://localhost:8080/",
          "height": 102
        },
        "colab_type": "code",
        "id": "YUj5gm6-zM6k",
        "outputId": "ebad9a43-e8e6-476c-a9c6-ab4b3edce5ea",
        "scrolled": true
      },
      "outputs": [
        {
          "name": "stdout",
          "output_type": "stream",
          "text": [
            "<class '__main__.DataSet'>\n",
            "2\n",
            "466\n",
            "(466, 512, 512, 3)\n",
            "20\n"
          ]
        }
      ],
      "source": [
        "print(type(dataset))\n",
        "print(len(data))\n",
        "print(len(data[1]))\n",
        "print(data[0].shape)\n",
        "print(len(data[1][:20]))"
      ]
    },
    {
      "cell_type": "code",
      "execution_count": null,
      "metadata": {
        "colab": {},
        "colab_type": "code",
        "id": "7L9EiJwizM6v",
        "scrolled": true
      },
      "outputs": [],
      "source": [
        "x=len(data[0])\n",
        "test_sample_size=int(0.001*x)\n",
        "train_sample_size=x-test_sample_size\n",
        "\n",
        "(tr_img,tr_lab),(te_img,te_lab)=(data[0][:train_sample_size],data[1][:train_sample_size]),(data[0][train_sample_size:],data[1][train_sample_size:])"
      ]
    },
    {
      "cell_type": "code",
      "execution_count": null,
      "metadata": {
        "colab": {
          "base_uri": "https://localhost:8080/",
          "height": 1000
        },
        "colab_type": "code",
        "id": "UPls83uwzM60",
        "outputId": "85e4e1d7-69c0-484c-ffd9-9014959c7dd4"
      },
      "outputs": [
        {
          "name": "stdout",
          "output_type": "stream",
          "text": [
            "(466, 512, 512, 3)\n",
            "(466, 2)\n",
            "(0, 512, 512, 3)\n",
            "(0, 2)\n",
            "[[1 0]\n",
            " [0 1]\n",
            " [1 0]\n",
            " [1 0]\n",
            " [1 0]\n",
            " [1 0]\n",
            " [1 0]\n",
            " [1 0]\n",
            " [1 0]\n",
            " [1 0]\n",
            " [0 1]\n",
            " [1 0]\n",
            " [0 1]\n",
            " [0 1]\n",
            " [1 0]\n",
            " [0 1]\n",
            " [1 0]\n",
            " [1 0]\n",
            " [1 0]\n",
            " [1 0]\n",
            " [0 1]\n",
            " [0 1]\n",
            " [0 1]\n",
            " [1 0]\n",
            " [1 0]\n",
            " [1 0]\n",
            " [1 0]\n",
            " [0 1]\n",
            " [1 0]\n",
            " [1 0]\n",
            " [1 0]\n",
            " [0 1]\n",
            " [1 0]\n",
            " [1 0]\n",
            " [1 0]\n",
            " [1 0]\n",
            " [1 0]\n",
            " [1 0]\n",
            " [0 1]\n",
            " [0 1]\n",
            " [1 0]\n",
            " [1 0]\n",
            " [1 0]\n",
            " [0 1]\n",
            " [0 1]\n",
            " [1 0]\n",
            " [1 0]\n",
            " [1 0]\n",
            " [0 1]\n",
            " [1 0]\n",
            " [0 1]\n",
            " [1 0]\n",
            " [1 0]\n",
            " [1 0]\n",
            " [1 0]\n",
            " [1 0]\n",
            " [1 0]\n",
            " [1 0]\n",
            " [1 0]\n",
            " [0 1]\n",
            " [1 0]\n",
            " [0 1]\n",
            " [1 0]\n",
            " [1 0]\n",
            " [1 0]\n",
            " [1 0]\n",
            " [0 1]\n",
            " [1 0]\n",
            " [0 1]\n",
            " [1 0]\n",
            " [0 1]\n",
            " [1 0]\n",
            " [1 0]\n",
            " [1 0]\n",
            " [0 1]\n",
            " [0 1]\n",
            " [1 0]\n",
            " [0 1]\n",
            " [1 0]\n",
            " [1 0]\n",
            " [0 1]\n",
            " [0 1]\n",
            " [1 0]\n",
            " [1 0]\n",
            " [0 1]\n",
            " [1 0]\n",
            " [0 1]\n",
            " [1 0]\n",
            " [1 0]\n",
            " [1 0]\n",
            " [1 0]\n",
            " [0 1]\n",
            " [1 0]\n",
            " [1 0]\n",
            " [0 1]\n",
            " [1 0]\n",
            " [0 1]\n",
            " [1 0]\n",
            " [0 1]\n",
            " [1 0]\n",
            " [1 0]\n",
            " [1 0]\n",
            " [1 0]\n",
            " [1 0]\n",
            " [1 0]\n",
            " [0 1]\n",
            " [1 0]\n",
            " [0 1]\n",
            " [0 1]\n",
            " [1 0]\n",
            " [1 0]\n",
            " [1 0]\n",
            " [1 0]\n",
            " [1 0]\n",
            " [1 0]\n",
            " [0 1]\n",
            " [0 1]\n",
            " [1 0]\n",
            " [0 1]\n",
            " [0 1]\n",
            " [1 0]\n",
            " [1 0]\n",
            " [0 1]\n",
            " [1 0]\n",
            " [1 0]\n",
            " [1 0]\n",
            " [1 0]\n",
            " [0 1]\n",
            " [1 0]\n",
            " [0 1]\n",
            " [0 1]\n",
            " [1 0]\n",
            " [1 0]\n",
            " [1 0]\n",
            " [1 0]\n",
            " [1 0]\n",
            " [1 0]\n",
            " [1 0]\n",
            " [1 0]\n",
            " [0 1]\n",
            " [0 1]\n",
            " [1 0]\n",
            " [1 0]\n",
            " [0 1]\n",
            " [0 1]\n",
            " [1 0]\n",
            " [1 0]\n",
            " [0 1]\n",
            " [1 0]\n",
            " [1 0]\n",
            " [1 0]\n",
            " [1 0]\n",
            " [1 0]\n",
            " [1 0]\n",
            " [1 0]\n",
            " [1 0]\n",
            " [1 0]\n",
            " [0 1]\n",
            " [1 0]\n",
            " [1 0]\n",
            " [1 0]\n",
            " [1 0]\n",
            " [1 0]\n",
            " [1 0]\n",
            " [1 0]\n",
            " [0 1]\n",
            " [1 0]\n",
            " [1 0]\n",
            " [0 1]\n",
            " [1 0]\n",
            " [1 0]\n",
            " [0 1]\n",
            " [1 0]\n",
            " [1 0]\n",
            " [1 0]\n",
            " [0 1]\n",
            " [0 1]\n",
            " [0 1]\n",
            " [1 0]\n",
            " [1 0]\n",
            " [1 0]\n",
            " [1 0]\n",
            " [1 0]\n",
            " [1 0]\n",
            " [1 0]\n",
            " [1 0]\n",
            " [0 1]\n",
            " [1 0]\n",
            " [1 0]\n",
            " [1 0]\n",
            " [1 0]\n",
            " [1 0]\n",
            " [1 0]\n",
            " [0 1]\n",
            " [0 1]\n",
            " [0 1]\n",
            " [0 1]\n",
            " [1 0]\n",
            " [0 1]\n",
            " [1 0]\n",
            " [1 0]\n",
            " [0 1]\n",
            " [0 1]\n",
            " [0 1]\n",
            " [0 1]\n",
            " [1 0]\n",
            " [0 1]\n",
            " [1 0]\n",
            " [1 0]\n",
            " [1 0]\n",
            " [1 0]\n",
            " [0 1]\n",
            " [0 1]\n",
            " [1 0]\n",
            " [0 1]\n",
            " [1 0]\n",
            " [1 0]\n",
            " [1 0]\n",
            " [1 0]\n",
            " [1 0]\n",
            " [1 0]\n",
            " [1 0]\n",
            " [1 0]\n",
            " [1 0]\n",
            " [1 0]\n",
            " [0 1]\n",
            " [0 1]\n",
            " [1 0]\n",
            " [1 0]\n",
            " [0 1]\n",
            " [1 0]\n",
            " [1 0]\n",
            " [1 0]\n",
            " [1 0]\n",
            " [1 0]\n",
            " [1 0]\n",
            " [1 0]\n",
            " [1 0]\n",
            " [0 1]\n",
            " [1 0]\n",
            " [1 0]\n",
            " [0 1]\n",
            " [1 0]\n",
            " [1 0]\n",
            " [0 1]\n",
            " [1 0]\n",
            " [0 1]\n",
            " [1 0]\n",
            " [0 1]\n",
            " [1 0]\n",
            " [1 0]\n",
            " [1 0]\n",
            " [0 1]\n",
            " [0 1]\n",
            " [0 1]\n",
            " [1 0]\n",
            " [0 1]\n",
            " [1 0]\n",
            " [1 0]\n",
            " [1 0]\n",
            " [0 1]\n",
            " [1 0]\n",
            " [0 1]\n",
            " [1 0]\n",
            " [0 1]\n",
            " [1 0]\n",
            " [1 0]\n",
            " [1 0]\n",
            " [1 0]\n",
            " [0 1]\n",
            " [1 0]\n",
            " [0 1]\n",
            " [1 0]\n",
            " [1 0]\n",
            " [0 1]\n",
            " [1 0]\n",
            " [0 1]\n",
            " [0 1]\n",
            " [1 0]\n",
            " [1 0]\n",
            " [1 0]\n",
            " [0 1]\n",
            " [0 1]\n",
            " [1 0]\n",
            " [1 0]\n",
            " [0 1]\n",
            " [0 1]\n",
            " [1 0]\n",
            " [0 1]\n",
            " [1 0]\n",
            " [1 0]\n",
            " [1 0]\n",
            " [0 1]\n",
            " [1 0]\n",
            " [1 0]\n",
            " [1 0]\n",
            " [0 1]\n",
            " [1 0]\n",
            " [0 1]\n",
            " [1 0]\n",
            " [1 0]\n",
            " [1 0]\n",
            " [1 0]\n",
            " [1 0]\n",
            " [0 1]\n",
            " [1 0]\n",
            " [0 1]\n",
            " [0 1]\n",
            " [1 0]\n",
            " [0 1]\n",
            " [1 0]\n",
            " [1 0]\n",
            " [1 0]\n",
            " [1 0]\n",
            " [1 0]\n",
            " [1 0]\n",
            " [1 0]\n",
            " [1 0]\n",
            " [1 0]\n",
            " [0 1]\n",
            " [1 0]\n",
            " [0 1]\n",
            " [1 0]\n",
            " [1 0]\n",
            " [1 0]\n",
            " [1 0]\n",
            " [1 0]\n",
            " [0 1]\n",
            " [1 0]\n",
            " [1 0]\n",
            " [0 1]\n",
            " [0 1]\n",
            " [1 0]\n",
            " [0 1]\n",
            " [0 1]\n",
            " [0 1]\n",
            " [0 1]\n",
            " [0 1]\n",
            " [1 0]\n",
            " [1 0]\n",
            " [1 0]\n",
            " [1 0]\n",
            " [1 0]\n",
            " [1 0]\n",
            " [1 0]\n",
            " [1 0]\n",
            " [0 1]\n",
            " [0 1]\n",
            " [0 1]\n",
            " [1 0]\n",
            " [0 1]\n",
            " [1 0]\n",
            " [1 0]\n",
            " [0 1]\n",
            " [1 0]\n",
            " [1 0]\n",
            " [1 0]\n",
            " [1 0]\n",
            " [1 0]\n",
            " [0 1]\n",
            " [1 0]\n",
            " [1 0]\n",
            " [1 0]\n",
            " [0 1]\n",
            " [1 0]\n",
            " [0 1]\n",
            " [1 0]\n",
            " [0 1]\n",
            " [0 1]\n",
            " [0 1]\n",
            " [1 0]\n",
            " [0 1]\n",
            " [0 1]\n",
            " [0 1]\n",
            " [1 0]\n",
            " [1 0]\n",
            " [1 0]\n",
            " [0 1]\n",
            " [1 0]\n",
            " [0 1]\n",
            " [0 1]\n",
            " [1 0]\n",
            " [1 0]\n",
            " [0 1]\n",
            " [1 0]\n",
            " [1 0]\n",
            " [1 0]\n",
            " [0 1]\n",
            " [1 0]\n",
            " [0 1]\n",
            " [1 0]\n",
            " [1 0]\n",
            " [1 0]\n",
            " [1 0]\n",
            " [1 0]\n",
            " [1 0]\n",
            " [0 1]\n",
            " [1 0]\n",
            " [1 0]\n",
            " [0 1]\n",
            " [0 1]\n",
            " [0 1]\n",
            " [1 0]\n",
            " [1 0]\n",
            " [0 1]\n",
            " [1 0]\n",
            " [1 0]\n",
            " [0 1]\n",
            " [1 0]\n",
            " [0 1]\n",
            " [1 0]\n",
            " [1 0]\n",
            " [1 0]\n",
            " [1 0]\n",
            " [0 1]\n",
            " [1 0]\n",
            " [0 1]\n",
            " [1 0]\n",
            " [0 1]\n",
            " [1 0]\n",
            " [0 1]\n",
            " [1 0]\n",
            " [1 0]\n",
            " [0 1]\n",
            " [0 1]\n",
            " [1 0]\n",
            " [1 0]\n",
            " [1 0]\n",
            " [1 0]\n",
            " [1 0]\n",
            " [1 0]\n",
            " [1 0]\n",
            " [1 0]\n",
            " [0 1]\n",
            " [1 0]\n",
            " [1 0]\n",
            " [0 1]\n",
            " [0 1]\n",
            " [1 0]\n",
            " [1 0]\n",
            " [0 1]\n",
            " [1 0]\n",
            " [0 1]\n",
            " [1 0]\n",
            " [0 1]\n",
            " [1 0]\n",
            " [1 0]\n",
            " [1 0]\n",
            " [1 0]\n",
            " [1 0]\n",
            " [1 0]\n",
            " [1 0]\n",
            " [1 0]\n",
            " [0 1]\n",
            " [1 0]\n",
            " [1 0]\n",
            " [1 0]\n",
            " [1 0]\n",
            " [1 0]\n",
            " [1 0]\n",
            " [0 1]\n",
            " [0 1]\n",
            " [1 0]\n",
            " [1 0]\n",
            " [0 1]\n",
            " [1 0]]\n",
            "[]\n"
          ]
        },
        {
          "data": {
            "image/png": "[encoded data removed]",
            "text/plain": [
              "<Figure size 432x288 with 1 Axes>"
            ]
          },
          "metadata": {
            "needs_background": "light",
            "tags": []
          },
          "output_type": "display_data"
        },
        {
          "name": "stdout",
          "output_type": "stream",
          "text": [
            "[1 0]\n"
          ]
        }
      ],
      "source": [
        "print(tr_img.shape)\n",
        "print(tr_lab.shape)\n",
        "print(te_img.shape)\n",
        "print(te_lab.shape)\n",
        "print(tr_lab)\n",
        "print(te_lab)\n",
        "plt.imshow(tr_img[18],cmap='gray')\n",
        "plt.show()\n",
        "print(tr_lab[0])"
      ]
    },
    {
      "cell_type": "markdown",
      "metadata": {
        "colab_type": "text",
        "id": "ePjex4w-yhEI"
      },
      "source": [
        "Custom Model"
      ]
    },
    {
      "cell_type": "code",
      "execution_count": null,
      "metadata": {
        "colab": {},
        "colab_type": "code",
        "id": "w5-DYaSEfggn"
      },
      "outputs": [],
      "source": [
        "tr_img = tr_img.reshape(-1,512,512,3)\n"
      ]
    },
    {
      "cell_type": "code",
      "execution_count": null,
      "metadata": {
        "colab": {},
        "colab_type": "code",
        "id": "993dRg0OzM7N"
      },
      "outputs": [],
      "source": [
        "#defining our model ,the description of the model is provided separately\n",
        "from tensorflow.keras.layers import Dropout\n",
        "lesion_Classifier=Sequential()\n",
        "lesion_Classifier.add(Convolution2D(8,(3,3),input_shape=(512,512,3),activation='relu'))\n",
        "lesion_Classifier.add(MaxPooling2D(pool_size=(2,2)))\n",
        "lesion_Classifier.add(Convolution2D(16,(3,3),activation='relu'))\n",
        "lesion_Classifier.add(MaxPooling2D(pool_size=(2,2)))\n",
        "lesion_Classifier.add(Convolution2D(16,(3,3),activation='relu'))\n",
        "lesion_Classifier.add(MaxPooling2D(pool_size=(2,2)))\n",
        "lesion_Classifier.add(Dropout(0.3))\n",
        "lesion_Classifier.add(Convolution2D(32,(3,3),activation='relu'))\n",
        "lesion_Classifier.add(MaxPooling2D(pool_size=(2,2)))\n",
        "lesion_Classifier.add(Convolution2D(32,(3,3),activation='relu'))\n",
        "lesion_Classifier.add(MaxPooling2D(pool_size=(2,2)))\n",
        "lesion_Classifier.add(Convolution2D(32,(3,3),activation='relu'))\n",
        "lesion_Classifier.add(MaxPooling2D(pool_size=(2,2)))\n",
        "lesion_Classifier.add(Dropout(0.3))\n",
        "lesion_Classifier.add(Convolution2D(64,(3,3),activation='relu'))\n",
        "lesion_Classifier.add(MaxPooling2D(pool_size=(2,2)))\n",
        "\n",
        "lesion_Classifier.add(Flatten())\n",
        "\n",
        "lesion_Classifier.add(Dense(1024,activation='relu'))\n",
        "lesion_Classifier.add(Dense(128,activation='relu'))\n",
        "lesion_Classifier.add(Dense(2,activation='sigmoid'))"
      ]
    },
    {
      "cell_type": "code",
      "execution_count": null,
      "metadata": {
        "colab": {},
        "colab_type": "code",
        "id": "wNw9qSQgzM7T"
      },
      "outputs": [],
      "source": [
        "lesion_Classifier.compile(optimizer='adam',loss='binary_crossentropy',metrics=['accuracy'])"
      ]
    },
    {
      "cell_type": "code",
      "execution_count": null,
      "metadata": {
        "colab": {},
        "colab_type": "code",
        "id": "BMyOTDbOsz9l"
      },
      "outputs": [],
      "source": [
        "\n",
        "log_dir = os.path.join(\n",
        "    \"logs\",\n",
        "    \"fit\",\n",
        "    datetime.datetime.now().strftime(\"%Y%m%d-%H%M%S\"),\n",
        ")\n",
        "tensorboard_callback = tf.keras.callbacks.TensorBoard(log_dir=log_dir, histogram_freq=1)\n",
        "\n",
        "name=\"images_ewith-sn-1\".format(int(time.time()))"
      ]
    },
    {
      "cell_type": "code",
      "execution_count": null,
      "metadata": {
        "colab": {},
        "colab_type": "code",
        "id": "oVV4ilZWKSdq"
      },
      "outputs": [],
      "source": [
        "es = EarlyStopping(monitor='val_loss', mode='min', verbose=1, patience=15)"
      ]
    },
    {
      "cell_type": "code",
      "execution_count": null,
      "metadata": {
        "colab": {
          "base_uri": "https://localhost:8080/",
          "height": 1000
        },
        "colab_type": "code",
        "id": "e-0hp_XwzM7X",
        "outputId": "5d06522d-d25e-4b5a-8b06-7224ee04a68d",
        "scrolled": true
      },
      "outputs": [
        {
          "name": "stdout",
          "output_type": "stream",
          "text": [
            "Epoch 1/500\n",
            "14/14 [==============================] - 1s 98ms/step - loss: 1.6722 - accuracy: 0.6804 - val_loss: 0.5221 - val_accuracy: 0.7500\n",
            "Epoch 2/500\n",
            "14/14 [==============================] - 1s 53ms/step - loss: 0.6100 - accuracy: 0.6644 - val_loss: 0.6014 - val_accuracy: 0.7500\n",
            "Epoch 3/500\n",
            "14/14 [==============================] - 1s 52ms/step - loss: 0.5941 - accuracy: 0.6712 - val_loss: 0.6054 - val_accuracy: 0.7500\n",
            "Epoch 4/500\n",
            "14/14 [==============================] - 1s 51ms/step - loss: 0.5709 - accuracy: 0.6689 - val_loss: 0.5493 - val_accuracy: 0.7500\n",
            "Epoch 5/500\n",
            "14/14 [==============================] - 1s 52ms/step - loss: 0.5234 - accuracy: 0.7420 - val_loss: 0.5925 - val_accuracy: 0.7500\n",
            "Epoch 6/500\n",
            "14/14 [==============================] - 1s 51ms/step - loss: 0.5010 - accuracy: 0.7626 - val_loss: 0.5148 - val_accuracy: 0.7857\n",
            "Epoch 7/500\n",
            "14/14 [==============================] - 1s 51ms/step - loss: 0.4656 - accuracy: 0.7854 - val_loss: 0.5022 - val_accuracy: 0.7143\n",
            "Epoch 8/500\n",
            "14/14 [==============================] - 1s 52ms/step - loss: 0.4679 - accuracy: 0.7740 - val_loss: 0.4766 - val_accuracy: 0.8214\n",
            "Epoch 9/500\n",
            "14/14 [==============================] - 1s 51ms/step - loss: 0.4158 - accuracy: 0.7991 - val_loss: 0.4028 - val_accuracy: 0.8571\n",
            "Epoch 10/500\n",
            "14/14 [==============================] - 1s 51ms/step - loss: 0.4280 - accuracy: 0.8082 - val_loss: 0.4240 - val_accuracy: 0.7857\n",
            "Epoch 11/500\n",
            "14/14 [==============================] - 1s 51ms/step - loss: 0.4417 - accuracy: 0.8014 - val_loss: 0.4092 - val_accuracy: 0.8571\n",
            "Epoch 12/500\n",
            "14/14 [==============================] - 1s 51ms/step - loss: 0.3865 - accuracy: 0.8333 - val_loss: 0.4895 - val_accuracy: 0.7143\n",
            "Epoch 13/500\n",
            "14/14 [==============================] - 1s 51ms/step - loss: 0.3857 - accuracy: 0.8402 - val_loss: 0.4181 - val_accuracy: 0.7857\n",
            "Epoch 14/500\n",
            "14/14 [==============================] - 1s 51ms/step - loss: 0.3744 - accuracy: 0.8379 - val_loss: 0.4229 - val_accuracy: 0.7857\n",
            "Epoch 15/500\n",
            "14/14 [==============================] - 1s 52ms/step - loss: 0.3980 - accuracy: 0.8470 - val_loss: 0.5297 - val_accuracy: 0.7143\n",
            "Epoch 16/500\n",
            "14/14 [==============================] - 1s 52ms/step - loss: 0.3730 - accuracy: 0.8516 - val_loss: 0.3786 - val_accuracy: 0.8214\n",
            "Epoch 17/500\n",
            "14/14 [==============================] - 1s 51ms/step - loss: 0.3324 - accuracy: 0.8653 - val_loss: 0.4443 - val_accuracy: 0.7857\n",
            "Epoch 18/500\n",
            "14/14 [==============================] - 1s 51ms/step - loss: 0.3698 - accuracy: 0.8288 - val_loss: 0.4029 - val_accuracy: 0.8571\n",
            "Epoch 19/500\n",
            "14/14 [==============================] - 1s 51ms/step - loss: 0.3025 - accuracy: 0.8813 - val_loss: 0.3724 - val_accuracy: 0.8571\n",
            "Epoch 20/500\n",
            "14/14 [==============================] - 1s 51ms/step - loss: 0.3534 - accuracy: 0.8539 - val_loss: 0.5559 - val_accuracy: 0.7143\n",
            "Epoch 21/500\n",
            "14/14 [==============================] - 1s 51ms/step - loss: 0.3377 - accuracy: 0.8562 - val_loss: 0.4317 - val_accuracy: 0.6786\n",
            "Epoch 22/500\n",
            "14/14 [==============================] - 1s 51ms/step - loss: 0.2788 - accuracy: 0.8881 - val_loss: 0.5118 - val_accuracy: 0.7500\n",
            "Epoch 23/500\n",
            "14/14 [==============================] - 1s 51ms/step - loss: 0.2617 - accuracy: 0.8927 - val_loss: 0.4063 - val_accuracy: 0.8929\n",
            "Epoch 24/500\n",
            "14/14 [==============================] - 1s 51ms/step - loss: 0.2716 - accuracy: 0.8927 - val_loss: 0.3602 - val_accuracy: 0.8571\n",
            "Epoch 25/500\n",
            "14/14 [==============================] - 1s 52ms/step - loss: 0.2439 - accuracy: 0.8881 - val_loss: 0.4432 - val_accuracy: 0.8214\n",
            "Epoch 26/500\n",
            "14/14 [==============================] - 1s 51ms/step - loss: 0.3042 - accuracy: 0.8699 - val_loss: 0.3892 - val_accuracy: 0.8214\n",
            "Epoch 27/500\n",
            "14/14 [==============================] - 1s 51ms/step - loss: 0.2263 - accuracy: 0.9132 - val_loss: 0.5068 - val_accuracy: 0.7500\n",
            "Epoch 28/500\n",
            "14/14 [==============================] - 1s 52ms/step - loss: 0.2478 - accuracy: 0.8950 - val_loss: 0.3406 - val_accuracy: 0.8571\n",
            "Epoch 29/500\n",
            "14/14 [==============================] - 1s 51ms/step - loss: 0.2430 - accuracy: 0.9110 - val_loss: 0.4019 - val_accuracy: 0.8571\n",
            "Epoch 30/500\n",
            "14/14 [==============================] - 1s 52ms/step - loss: 0.2250 - accuracy: 0.9064 - val_loss: 0.2880 - val_accuracy: 0.9286\n",
            "Epoch 31/500\n",
            "14/14 [==============================] - 1s 51ms/step - loss: 0.2078 - accuracy: 0.9178 - val_loss: 0.3053 - val_accuracy: 0.8929\n",
            "Epoch 32/500\n",
            "14/14 [==============================] - 1s 51ms/step - loss: 0.1952 - accuracy: 0.9041 - val_loss: 0.3697 - val_accuracy: 0.8929\n",
            "Epoch 33/500\n",
            "14/14 [==============================] - 1s 52ms/step - loss: 0.2040 - accuracy: 0.9087 - val_loss: 0.4157 - val_accuracy: 0.8214\n",
            "Epoch 34/500\n",
            "14/14 [==============================] - 1s 51ms/step - loss: 0.2243 - accuracy: 0.8995 - val_loss: 0.4195 - val_accuracy: 0.7857\n",
            "Epoch 35/500\n",
            "14/14 [==============================] - 1s 52ms/step - loss: 0.2296 - accuracy: 0.9087 - val_loss: 0.3822 - val_accuracy: 0.8571\n",
            "Epoch 36/500\n",
            "14/14 [==============================] - 1s 52ms/step - loss: 0.1658 - accuracy: 0.9384 - val_loss: 0.3259 - val_accuracy: 0.9286\n",
            "Epoch 37/500\n",
            "14/14 [==============================] - 1s 51ms/step - loss: 0.1552 - accuracy: 0.9429 - val_loss: 0.3796 - val_accuracy: 0.8571\n",
            "Epoch 38/500\n",
            "14/14 [==============================] - 1s 51ms/step - loss: 0.1440 - accuracy: 0.9429 - val_loss: 0.4598 - val_accuracy: 0.8214\n",
            "Epoch 39/500\n",
            "14/14 [==============================] - 1s 52ms/step - loss: 0.2748 - accuracy: 0.8950 - val_loss: 0.3982 - val_accuracy: 0.9286\n",
            "Epoch 40/500\n",
            "14/14 [==============================] - 1s 52ms/step - loss: 0.2351 - accuracy: 0.9041 - val_loss: 0.3707 - val_accuracy: 0.8571\n",
            "Epoch 41/500\n",
            "14/14 [==============================] - 1s 51ms/step - loss: 0.1864 - accuracy: 0.9429 - val_loss: 0.3218 - val_accuracy: 0.9286\n",
            "Epoch 42/500\n",
            "14/14 [==============================] - 1s 52ms/step - loss: 0.1456 - accuracy: 0.9452 - val_loss: 0.3336 - val_accuracy: 0.8571\n",
            "Epoch 43/500\n",
            "14/14 [==============================] - 1s 50ms/step - loss: 0.1285 - accuracy: 0.9566 - val_loss: 0.3768 - val_accuracy: 0.8214\n",
            "Epoch 44/500\n",
            "14/14 [==============================] - 1s 51ms/step - loss: 0.1407 - accuracy: 0.9475 - val_loss: 0.3427 - val_accuracy: 0.8214\n",
            "Epoch 45/500\n",
            "14/14 [==============================] - 1s 52ms/step - loss: 0.1713 - accuracy: 0.9406 - val_loss: 0.3215 - val_accuracy: 0.8929\n",
            "Epoch 00045: early stopping\n"
          ]
        }
      ],
      "source": [
        "\n",
        "history=lesion_Classifier.fit(tr_img,tr_lab,epochs=500,validation_split=0.06,callbacks=[tensorboard_callback,es])"
      ]
    },
    {
      "cell_type": "code",
      "execution_count": null,
      "metadata": {
        "colab": {
          "base_uri": "https://localhost:8080/"
        },
        "colab_type": "code",
        "id": "0pc5LSaa2Sof",
        "outputId": "9f2eaef9-f91e-48ba-9242-38ac5e782896"
      },
      "outputs": [
        {
          "data": {
            "image/png": "[encoded data removed]",
            "text/plain": [
              "<Figure size 432x288 with 1 Axes>"
            ]
          },
          "metadata": {
            "needs_background": "light",
            "tags": []
          },
          "output_type": "display_data"
        },
        {
          "data": {
            "image/png": "[encoded data removed]",
            "text/plain": [
              "<Figure size 432x288 with 1 Axes>"
            ]
          },
          "metadata": {
            "needs_background": "light",
            "tags": []
          },
          "output_type": "display_data"
        }
      ],
      "source": [
        "acc = history.history['accuracy']\n",
        "val_acc = history.history['val_accuracy']\n",
        "loss = history.history['loss']\n",
        "val_loss = history.history['val_loss']\n",
        "epochs = range(1, len(acc) + 1)\n",
        "plt.plot(epochs, acc, 'b', label='Training acc')\n",
        "plt.plot(epochs, val_acc, 'r', label='Validation acc')\n",
        "plt.title('Training and validation accuracy')\n",
        "plt.legend()\n",
        "plt.figure()\n",
        "plt.plot(epochs, loss, 'b', label='Training loss')\n",
        "plt.plot(epochs, val_loss, 'r', label='Validation loss')\n",
        "plt.title('Training and validation loss')\n",
        "plt.legend()\n",
        "plt.show()"
      ]
    },
    {
      "cell_type": "code",
      "execution_count": null,
      "metadata": {},
      "outputs": [],
      "source": [
        "import seaborn as sn"
      ]
    },
    {
      "cell_type": "code",
      "execution_count": null,
      "metadata": {
        "colab": {
          "base_uri": "https://localhost:8080/",
          "height": 269
        },
        "colab_type": "code",
        "id": "M5Hy0lEM6VsN",
        "outputId": "a806f5bb-ee84-4ce6-cc67-a6a989b168a3"
      },
      "outputs": [
        {
          "data": {
            "image/png": "[encoded data removed]",
            "text/plain": [
              "<Figure size 432x288 with 2 Axes>"
            ]
          },
          "metadata": {
            "needs_background": "light",
            "tags": []
          },
          "output_type": "display_data"
        }
      ],
      "source": [
        "cf_matrix = np.array(con_mat)\n",
        "sn.heatmap(cf_matrix, annot=True, cmap='Blues',xticklabels=['PD','CONTROL'],yticklabels=['PD','CONTROL'])\n",
        "plt.show()"
      ]
    },
    {
      "cell_type": "code",
      "execution_count": null,
      "metadata": {
        "colab": {
          "base_uri": "https://localhost:8080/",
          "height": 197
        },
        "colab_type": "code",
        "id": "n1zIr-W7zM7m",
        "outputId": "f44ddf27-2752-4573-da4c-46dad98e6dd8"
      },
      "outputs": [
        {
          "ename": "NameError",
          "evalue": "ignored",
          "output_type": "error",
          "traceback": [
            "\u001b[0;31m---------------------------------------------------------------------------\u001b[0m",
            "\u001b[0;31mNameError\u001b[0m                                 Traceback (most recent call last)",
            "\u001b[0;32m<ipython-input-5-67729d8683c0>\u001b[0m in \u001b[0;36m<module>\u001b[0;34m()\u001b[0m\n\u001b[1;32m      1\u001b[0m \u001b[0;31m#saving the weights to h5 format\u001b[0m\u001b[0;34m\u001b[0m\u001b[0;34m\u001b[0m\u001b[0;34m\u001b[0m\u001b[0m\n\u001b[0;32m----> 2\u001b[0;31m \u001b[0mlesion_Classifier\u001b[0m\u001b[0;34m.\u001b[0m\u001b[0msave\u001b[0m\u001b[0;34m(\u001b[0m\u001b[0;34m\"parkinson final stage classifier_95.h5\"\u001b[0m\u001b[0;34m)\u001b[0m\u001b[0;34m\u001b[0m\u001b[0;34m\u001b[0m\u001b[0m\n\u001b[0m\u001b[1;32m      3\u001b[0m \u001b[0;31m#model.save(\"model_vgg16_mypd_acc90.h5\")\u001b[0m\u001b[0;34m\u001b[0m\u001b[0;34m\u001b[0m\u001b[0;34m\u001b[0m\u001b[0m\n",
            "\u001b[0;31mNameError\u001b[0m: name 'lesion_Classifier' is not defined"
          ]
        }
      ],
      "source": [
        "#saving the weights to h5 format\n",
        "lesion_Classifier.save(\"parkinson final stage classifier_95.h5\")\n",
        "#model.save(\"model_vgg16_mypd_acc90.h5\")"
      ]
    },
    {
      "cell_type": "code",
      "execution_count": null,
      "metadata": {
        "colab": {
          "base_uri": "https://localhost:8080/",
          "height": 425
        },
        "colab_type": "code",
        "id": "tI72Ib90vZOC",
        "outputId": "fc6f1408-f14e-4ee1-968a-b794a3611e0d"
      },
      "outputs": [
        {
          "ename": "OSError",
          "evalue": "ignored",
          "output_type": "error",
          "traceback": [
            "\u001b[0;31m---------------------------------------------------------------------------\u001b[0m",
            "\u001b[0;31mOSError\u001b[0m                                   Traceback (most recent call last)",
            "\u001b[0;32m<ipython-input-72-5acad0725b1f>\u001b[0m in \u001b[0;36m<module>\u001b[0;34m()\u001b[0m\n\u001b[0;32m----> 1\u001b[0;31m \u001b[0mmodel\u001b[0m\u001b[0;34m.\u001b[0m\u001b[0mload_weights\u001b[0m\u001b[0;34m(\u001b[0m\u001b[0;34m'/content/parkinson first stage.h5'\u001b[0m\u001b[0;34m)\u001b[0m\u001b[0;34m\u001b[0m\u001b[0;34m\u001b[0m\u001b[0m\n\u001b[0m",
            "\u001b[0;32m/usr/local/lib/python3.6/dist-packages/keras/engine/saving.py\u001b[0m in \u001b[0;36mload_wrapper\u001b[0;34m(*args, **kwargs)\u001b[0m\n\u001b[1;32m    490\u001b[0m                 \u001b[0mos\u001b[0m\u001b[0;34m.\u001b[0m\u001b[0mremove\u001b[0m\u001b[0;34m(\u001b[0m\u001b[0mtmp_filepath\u001b[0m\u001b[0;34m)\u001b[0m\u001b[0;34m\u001b[0m\u001b[0;34m\u001b[0m\u001b[0m\n\u001b[1;32m    491\u001b[0m             \u001b[0;32mreturn\u001b[0m \u001b[0mres\u001b[0m\u001b[0;34m\u001b[0m\u001b[0;34m\u001b[0m\u001b[0m\n\u001b[0;32m--> 492\u001b[0;31m         \u001b[0;32mreturn\u001b[0m \u001b[0mload_function\u001b[0m\u001b[0;34m(\u001b[0m\u001b[0;34m*\u001b[0m\u001b[0margs\u001b[0m\u001b[0;34m,\u001b[0m \u001b[0;34m**\u001b[0m\u001b[0mkwargs\u001b[0m\u001b[0;34m)\u001b[0m\u001b[0;34m\u001b[0m\u001b[0;34m\u001b[0m\u001b[0m\n\u001b[0m\u001b[1;32m    493\u001b[0m \u001b[0;34m\u001b[0m\u001b[0m\n\u001b[1;32m    494\u001b[0m     \u001b[0;32mreturn\u001b[0m \u001b[0mload_wrapper\u001b[0m\u001b[0;34m\u001b[0m\u001b[0;34m\u001b[0m\u001b[0m\n",
            "\u001b[0;32m/usr/local/lib/python3.6/dist-packages/keras/engine/network.py\u001b[0m in \u001b[0;36mload_weights\u001b[0;34m(self, filepath, by_name, skip_mismatch, reshape)\u001b[0m\n\u001b[1;32m   1219\u001b[0m         \u001b[0;32mif\u001b[0m \u001b[0mh5py\u001b[0m \u001b[0;32mis\u001b[0m \u001b[0;32mNone\u001b[0m\u001b[0;34m:\u001b[0m\u001b[0;34m\u001b[0m\u001b[0;34m\u001b[0m\u001b[0m\n\u001b[1;32m   1220\u001b[0m             \u001b[0;32mraise\u001b[0m \u001b[0mImportError\u001b[0m\u001b[0;34m(\u001b[0m\u001b[0;34m'`load_weights` requires h5py.'\u001b[0m\u001b[0;34m)\u001b[0m\u001b[0;34m\u001b[0m\u001b[0;34m\u001b[0m\u001b[0m\n\u001b[0;32m-> 1221\u001b[0;31m         \u001b[0;32mwith\u001b[0m \u001b[0mh5py\u001b[0m\u001b[0;34m.\u001b[0m\u001b[0mFile\u001b[0m\u001b[0;34m(\u001b[0m\u001b[0mfilepath\u001b[0m\u001b[0;34m,\u001b[0m \u001b[0mmode\u001b[0m\u001b[0;34m=\u001b[0m\u001b[0;34m'r'\u001b[0m\u001b[0;34m)\u001b[0m \u001b[0;32mas\u001b[0m \u001b[0mf\u001b[0m\u001b[0;34m:\u001b[0m\u001b[0;34m\u001b[0m\u001b[0;34m\u001b[0m\u001b[0m\n\u001b[0m\u001b[1;32m   1222\u001b[0m             \u001b[0;32mif\u001b[0m \u001b[0;34m'layer_names'\u001b[0m \u001b[0;32mnot\u001b[0m \u001b[0;32min\u001b[0m \u001b[0mf\u001b[0m\u001b[0;34m.\u001b[0m\u001b[0mattrs\u001b[0m \u001b[0;32mand\u001b[0m \u001b[0;34m'model_weights'\u001b[0m \u001b[0;32min\u001b[0m \u001b[0mf\u001b[0m\u001b[0;34m:\u001b[0m\u001b[0;34m\u001b[0m\u001b[0;34m\u001b[0m\u001b[0m\n\u001b[1;32m   1223\u001b[0m                 \u001b[0mf\u001b[0m \u001b[0;34m=\u001b[0m \u001b[0mf\u001b[0m\u001b[0;34m[\u001b[0m\u001b[0;34m'model_weights'\u001b[0m\u001b[0;34m]\u001b[0m\u001b[0;34m\u001b[0m\u001b[0;34m\u001b[0m\u001b[0m\n",
            "\u001b[0;32m/usr/local/lib/python3.6/dist-packages/h5py/_hl/files.py\u001b[0m in \u001b[0;36m__init__\u001b[0;34m(self, name, mode, driver, libver, userblock_size, swmr, rdcc_nslots, rdcc_nbytes, rdcc_w0, track_order, **kwds)\u001b[0m\n\u001b[1;32m    406\u001b[0m                 fid = make_fid(name, mode, userblock_size,\n\u001b[1;32m    407\u001b[0m                                \u001b[0mfapl\u001b[0m\u001b[0;34m,\u001b[0m \u001b[0mfcpl\u001b[0m\u001b[0;34m=\u001b[0m\u001b[0mmake_fcpl\u001b[0m\u001b[0;34m(\u001b[0m\u001b[0mtrack_order\u001b[0m\u001b[0;34m=\u001b[0m\u001b[0mtrack_order\u001b[0m\u001b[0;34m)\u001b[0m\u001b[0;34m,\u001b[0m\u001b[0;34m\u001b[0m\u001b[0;34m\u001b[0m\u001b[0m\n\u001b[0;32m--> 408\u001b[0;31m                                swmr=swmr)\n\u001b[0m\u001b[1;32m    409\u001b[0m \u001b[0;34m\u001b[0m\u001b[0m\n\u001b[1;32m    410\u001b[0m             \u001b[0;32mif\u001b[0m \u001b[0misinstance\u001b[0m\u001b[0;34m(\u001b[0m\u001b[0mlibver\u001b[0m\u001b[0;34m,\u001b[0m \u001b[0mtuple\u001b[0m\u001b[0;34m)\u001b[0m\u001b[0;34m:\u001b[0m\u001b[0;34m\u001b[0m\u001b[0;34m\u001b[0m\u001b[0m\n",
            "\u001b[0;32m/usr/local/lib/python3.6/dist-packages/h5py/_hl/files.py\u001b[0m in \u001b[0;36mmake_fid\u001b[0;34m(name, mode, userblock_size, fapl, fcpl, swmr)\u001b[0m\n\u001b[1;32m    171\u001b[0m         \u001b[0;32mif\u001b[0m \u001b[0mswmr\u001b[0m \u001b[0;32mand\u001b[0m \u001b[0mswmr_support\u001b[0m\u001b[0;34m:\u001b[0m\u001b[0;34m\u001b[0m\u001b[0;34m\u001b[0m\u001b[0m\n\u001b[1;32m    172\u001b[0m             \u001b[0mflags\u001b[0m \u001b[0;34m|=\u001b[0m \u001b[0mh5f\u001b[0m\u001b[0;34m.\u001b[0m\u001b[0mACC_SWMR_READ\u001b[0m\u001b[0;34m\u001b[0m\u001b[0;34m\u001b[0m\u001b[0m\n\u001b[0;32m--> 173\u001b[0;31m         \u001b[0mfid\u001b[0m \u001b[0;34m=\u001b[0m \u001b[0mh5f\u001b[0m\u001b[0;34m.\u001b[0m\u001b[0mopen\u001b[0m\u001b[0;34m(\u001b[0m\u001b[0mname\u001b[0m\u001b[0;34m,\u001b[0m \u001b[0mflags\u001b[0m\u001b[0;34m,\u001b[0m \u001b[0mfapl\u001b[0m\u001b[0;34m=\u001b[0m\u001b[0mfapl\u001b[0m\u001b[0;34m)\u001b[0m\u001b[0;34m\u001b[0m\u001b[0;34m\u001b[0m\u001b[0m\n\u001b[0m\u001b[1;32m    174\u001b[0m     \u001b[0;32melif\u001b[0m \u001b[0mmode\u001b[0m \u001b[0;34m==\u001b[0m \u001b[0;34m'r+'\u001b[0m\u001b[0;34m:\u001b[0m\u001b[0;34m\u001b[0m\u001b[0;34m\u001b[0m\u001b[0m\n\u001b[1;32m    175\u001b[0m         \u001b[0mfid\u001b[0m \u001b[0;34m=\u001b[0m \u001b[0mh5f\u001b[0m\u001b[0;34m.\u001b[0m\u001b[0mopen\u001b[0m\u001b[0;34m(\u001b[0m\u001b[0mname\u001b[0m\u001b[0;34m,\u001b[0m \u001b[0mh5f\u001b[0m\u001b[0;34m.\u001b[0m\u001b[0mACC_RDWR\u001b[0m\u001b[0;34m,\u001b[0m \u001b[0mfapl\u001b[0m\u001b[0;34m=\u001b[0m\u001b[0mfapl\u001b[0m\u001b[0;34m)\u001b[0m\u001b[0;34m\u001b[0m\u001b[0;34m\u001b[0m\u001b[0m\n",
            "\u001b[0;32mh5py/_objects.pyx\u001b[0m in \u001b[0;36mh5py._objects.with_phil.wrapper\u001b[0;34m()\u001b[0m\n",
            "\u001b[0;32mh5py/_objects.pyx\u001b[0m in \u001b[0;36mh5py._objects.with_phil.wrapper\u001b[0;34m()\u001b[0m\n",
            "\u001b[0;32mh5py/h5f.pyx\u001b[0m in \u001b[0;36mh5py.h5f.open\u001b[0;34m()\u001b[0m\n",
            "\u001b[0;31mOSError\u001b[0m: Unable to open file (truncated file: eof = 4194304, sblock->base_addr = 0, stored_eof = 33370560)"
          ]
        }
      ],
      "source": [
        "model.load_weights('/content/parkinson first stage.h5')"
      ]
    },
    {
      "cell_type": "markdown",
      "metadata": {
        "colab_type": "text",
        "id": "j46OdN5iykTV"
      },
      "source": [
        "Pre-trained VGG16 model"
      ]
    },
    {
      "cell_type": "code",
      "execution_count": null,
      "metadata": {
        "colab": {},
        "colab_type": "code",
        "id": "jLaqcNeOaBnB"
      },
      "outputs": [],
      "source": [
        "from tensorflow.keras.applications import VGG16,InceptionResNetV2,InceptionV3,ResNet152,ResNet50,MobileNet,NASNetLarge\n",
        "from tensorflow.keras.layers import Input,Dense,Flatten\n",
        "from tensorflow.keras.models import Model\n",
        "from tensorflow.keras import models"
      ]
    },
    {
      "cell_type": "code",
      "execution_count": null,
      "metadata": {
        "colab": {
          "base_uri": "https://localhost:8080/",
          "height": 71
        },
        "colab_type": "code",
        "id": "W6GbafdBYeWe",
        "outputId": "b6fccd02-435c-46f8-d54b-19c6bd28692a"
      },
      "outputs": [
        {
          "name": "stdout",
          "output_type": "stream",
          "text": [
            "Downloading data from https://storage.googleapis.com/tensorflow/keras-applications/vgg16/vgg16_weights_tf_dim_ordering_tf_kernels_notop.h5\n",
            "58892288/58889256 [==============================] - 1s 0us/step\n"
          ]
        }
      ],
      "source": [
        "\n",
        "vggmodel = VGG16(weights='imagenet',include_top=False,input_tensor=Input(shape=(512,512,3)),classes=8)"
      ]
    },
    {
      "cell_type": "code",
      "execution_count": null,
      "metadata": {
        "colab": {},
        "colab_type": "code",
        "id": "JOrrDK8EaKHw"
      },
      "outputs": [],
      "source": [
        "vggmodel.trainable=False"
      ]
    },
    {
      "cell_type": "code",
      "execution_count": null,
      "metadata": {
        "colab": {},
        "colab_type": "code",
        "id": "Vn2dJaR2aFlP"
      },
      "outputs": [],
      "source": [
        "model = models.Sequential()\n",
        "model.add(vggmodel)\n",
        "model.add(Flatten())\n",
        "model.add(Dense(1024,activation='relu'))\n",
        "model.add(Dense(512,activation='relu'))\n",
        "model.add(Dense(124,activation='relu'))\n",
        "model.add(Dense(2,activation='sigmoid'))"
      ]
    },
    {
      "cell_type": "code",
      "execution_count": null,
      "metadata": {
        "colab": {},
        "colab_type": "code",
        "id": "1fXV4CeVaOzt"
      },
      "outputs": [],
      "source": [
        "model.compile(optimizer='RMSProp',loss='binary_crossentropy',metrics=['accuracy'])\n"
      ]
    },
    {
      "cell_type": "code",
      "execution_count": null,
      "metadata": {
        "colab": {},
        "colab_type": "code",
        "id": "IX6xa5yVaP0T"
      },
      "outputs": [],
      "source": [
        "history = model.fit(tr_img,tr_lab,epochs=100,validation_split=0.1,callbacks=[es])"
      ]
    },
    {
      "cell_type": "code",
      "execution_count": null,
      "metadata": {
        "colab": {},
        "colab_type": "code",
        "id": "bgOJ3U0N9Vl1"
      },
      "outputs": [],
      "source": [
        "acc = history.history['accuracy']\n",
        "val_acc = history.history['val_accuracy']\n",
        "loss = history.history['loss']\n",
        "val_loss = history.history['val_loss']\n",
        "epochs = range(1, len(acc) + 1)\n",
        "plt.plot(epochs, acc, 'b', label='Training acc')\n",
        "plt.plot(epochs, val_acc, 'r', label='Validation acc')\n",
        "plt.title('Training and validation accuracy')\n",
        "plt.legend()\n",
        "plt.figure()\n",
        "plt.plot(epochs, loss, 'b', label='Training loss')\n",
        "plt.plot(epochs, val_loss, 'r', label='Validation loss')\n",
        "plt.title('Training and validation loss')\n",
        "plt.legend()\n",
        "plt.show()"
      ]
    },
    {
      "cell_type": "code",
      "execution_count": null,
      "metadata": {
        "colab": {
          "base_uri": "https://localhost:8080/",
          "height": 88
        },
        "colab_type": "code",
        "id": "OvP3ID1DaNaI",
        "outputId": "5e4c0cc6-3af4-4441-b88d-7e1d268ab060"
      },
      "outputs": [
        {
          "name": "stdout",
          "output_type": "stream",
          "text": [
            "WARNING:tensorflow:From <ipython-input-74-de0ec98267d2>:2: Sequential.predict_classes (from tensorflow.python.keras.engine.sequential) is deprecated and will be removed after 2021-01-01.\n",
            "Instructions for updating:\n",
            "Please use instead:* `np.argmax(model.predict(x), axis=-1)`,   if your model does multi-class classification   (e.g. if it uses a `softmax` last-layer activation).* `(model.predict(x) > 0.5).astype(\"int32\")`,   if your model does binary classification   (e.g. if it uses a `sigmoid` last-layer activation).\n"
          ]
        }
      ],
      "source": [
        "from sklearn import metrics\n",
        "predictions = lesion_Classifier.predict_classes(data[0])\n"
      ]
    },
    {
      "cell_type": "code",
      "execution_count": null,
      "metadata": {
        "colab": {},
        "colab_type": "code",
        "id": "o94QTXBSm33c"
      },
      "outputs": [],
      "source": [
        "\n",
        "label = [int(np.where(r==1)[0][0]) for r in data[1]]\n"
      ]
    },
    {
      "cell_type": "code",
      "execution_count": null,
      "metadata": {
        "colab": {
          "base_uri": "https://localhost:8080/",
          "height": 275
        },
        "colab_type": "code",
        "id": "szBSa7eImp8-",
        "outputId": "708b8e87-d82f-452c-bf5f-79ca34066bd7"
      },
      "outputs": [
        {
          "name": "stdout",
          "output_type": "stream",
          "text": [
            "[0, 1, 0, 0, 0, 0, 0, 0, 0, 0, 1, 0, 1, 1, 0, 1, 0, 0, 0, 0, 1, 1, 1, 0, 0, 0, 0, 1, 0, 0, 0, 1, 0, 0, 0, 0, 0, 0, 1, 1, 0, 0, 0, 1, 1, 0, 0, 0, 1, 0, 1, 0, 0, 0, 0, 0, 0, 0, 0, 1, 0, 1, 0, 0, 0, 0, 1, 0, 1, 0, 1, 0, 0, 0, 1, 1, 0, 1, 0, 0, 1, 1, 0, 0, 1, 0, 1, 0, 0, 0, 0, 1, 0, 0, 1, 0, 1, 0, 1, 0, 0, 0, 0, 0, 0, 1, 0, 1, 1, 0, 0, 0, 0, 0, 0, 1, 1, 0, 1, 1, 0, 0, 1, 0, 0, 0, 0, 1, 0, 1, 1, 0, 0, 0, 0, 0, 0, 0, 0, 1, 1, 0, 0, 1, 1, 0, 0, 1, 0, 0, 0, 0, 0, 0, 0, 0, 0, 1, 0, 0, 0, 0, 0, 0, 0, 1, 0, 0, 1, 0, 0, 1, 0, 0, 0, 1, 1, 1, 0, 0, 0, 0, 0, 0, 0, 0, 1, 0, 0, 0, 0, 0, 0, 1, 1, 1, 1, 0, 1, 0, 0, 1, 1, 1, 1, 0, 1, 0, 0, 0, 0, 1, 1, 0, 1, 0, 0, 0, 0, 0, 0, 0, 0, 0, 0, 1, 1, 0, 0, 1, 0, 0, 0, 0, 0, 0, 0, 0, 1, 0, 0, 1, 0, 0, 1, 0, 1, 0, 1, 0, 0, 0, 1, 1, 1, 0, 1, 0, 0, 0, 1, 0, 1, 0, 1, 0, 0, 0, 0, 1, 0, 1, 0, 0, 1, 0, 1, 1, 0, 0, 0, 1, 1, 0, 0, 1, 1, 0, 1, 0, 0, 0, 1, 0, 0, 0, 1, 0, 1, 0, 0, 0, 0, 0, 1, 0, 1, 1, 0, 1, 0, 0, 0, 0, 0, 0, 0, 0, 0, 1, 0, 1, 0, 0, 0, 0, 0, 1, 0, 0, 1, 1, 0, 1, 1, 1, 1, 1, 0, 0, 0, 0, 0, 0, 0, 0, 1, 1, 1, 0, 1, 0, 0, 1, 0, 0, 0, 0, 0, 1, 0, 0, 0, 1, 0, 1, 0, 1, 1, 1, 0, 1, 1, 1, 0, 0, 0, 1, 0, 1, 1, 0, 0, 1, 0, 0, 0, 1, 0, 1, 0, 0, 0, 0, 0, 0, 1, 0, 0, 1, 1, 1, 0, 0, 1, 0, 0, 1, 0, 1, 0, 0, 0, 0, 1, 0, 1, 0, 1, 0, 1, 0, 0, 1, 1, 0, 0, 0, 0, 0, 0, 0, 0, 1, 0, 0, 1, 1, 0, 0, 1, 0, 1, 0, 1, 0, 0, 0, 0, 0, 0, 0, 0, 1, 0, 0, 0, 0, 0, 0, 1, 1, 0, 0, 1, 0]\n",
            "[0 1 0 0 0 0 0 0 0 0 1 0 1 1 0 1 0 0 0 0 1 1 1 0 0 0 0 1 0 0 0 1 0 0 0 0 0\n",
            " 0 1 1 0 0 0 1 1 0 1 0 1 0 1 0 0 0 0 0 0 0 0 1 0 1 0 0 0 0 1 0 1 0 1 0 0 0\n",
            " 1 1 0 1 0 0 1 1 0 0 1 0 1 0 0 0 0 1 0 0 1 0 1 0 1 0 0 0 0 0 0 1 0 1 1 0 0\n",
            " 0 0 0 0 1 1 0 1 1 0 0 0 0 0 0 0 1 0 1 1 0 0 0 0 0 0 0 0 1 1 0 0 1 1 0 0 1\n",
            " 0 0 0 0 0 0 0 0 0 1 0 0 0 0 0 0 0 1 0 0 1 0 0 1 0 0 0 1 1 1 0 0 0 0 0 0 0\n",
            " 0 1 0 0 0 0 0 0 1 1 1 1 0 1 0 0 1 1 1 1 0 1 0 0 0 0 1 1 0 1 0 0 0 0 0 0 0\n",
            " 0 1 0 1 1 0 0 1 0 0 0 0 0 0 0 0 1 0 0 1 0 0 1 0 1 0 1 0 0 0 1 1 1 0 1 0 0\n",
            " 0 1 0 1 0 1 0 0 0 0 1 0 1 0 0 1 0 1 1 0 0 0 1 1 0 0 1 1 0 1 0 0 0 1 0 0 0\n",
            " 1 0 1 0 0 0 0 0 1 0 1 1 0 1 0 0 0 0 0 0 0 0 0 1 0 1 0 0 0 0 0 1 0 0 1 1 0\n",
            " 1 1 1 1 1 0 0 0 0 0 0 0 0 1 1 1 0 1 0 0 1 0 0 0 0 0 1 0 0 0 1 0 1 0 1 1 1\n",
            " 0 1 1 1 0 0 0 1 0 1 1 0 0 1 0 0 0 1 0 1 0 0 0 0 0 0 1 0 0 1 1 1 0 0 1 0 0\n",
            " 1 0 1 0 0 0 0 1 0 1 0 1 0 1 0 0 1 1 0 0 0 0 0 0 0 0 1 0 0 1 1 0 0 0 0 1 0\n",
            " 1 0 0 0 0 0 0 0 0 0 0 1 0 0 0 0 1 1 0 0 1 0]\n"
          ]
        }
      ],
      "source": [
        "\n",
        "print(label)\n",
        "print(predictions)\n"
      ]
    },
    {
      "cell_type": "code",
      "execution_count": null,
      "metadata": {
        "colab": {},
        "colab_type": "code",
        "id": "ew3dw6phmvox"
      },
      "outputs": [],
      "source": [
        "\n",
        "report = metrics.classification_report(label,predictions)\n",
        "confusion = metrics.confusion_matrix(label,predictions,labels=[0,1])"
      ]
    },
    {
      "cell_type": "code",
      "execution_count": null,
      "metadata": {
        "colab": {
          "base_uri": "https://localhost:8080/",
          "height": 204
        },
        "colab_type": "code",
        "id": "Svu5-bqhnWRh",
        "outputId": "33208c19-0b4c-457a-ab6f-509c0af6ee9e"
      },
      "outputs": [
        {
          "name": "stdout",
          "output_type": "stream",
          "text": [
            "              precision    recall  f1-score   support\n",
            "\n",
            "           0       0.99      0.99      0.99       312\n",
            "           1       0.98      0.98      0.98       154\n",
            "\n",
            "    accuracy                           0.99       466\n",
            "   macro avg       0.99      0.99      0.99       466\n",
            "weighted avg       0.99      0.99      0.99       466\n",
            "\n",
            "[[309   3]\n",
            " [  3 151]]\n"
          ]
        }
      ],
      "source": [
        "print(report)\n",
        "print(confusion)"
      ]
    },
    {
      "cell_type": "code",
      "execution_count": null,
      "metadata": {
        "colab": {
          "base_uri": "https://localhost:8080/",
          "height": 374
        },
        "colab_type": "code",
        "id": "JXOmNUTQzM71",
        "outputId": "54e8ef8c-52dd-4938-c7b9-14bf6629c646"
      },
      "outputs": [
        {
          "name": "stdout",
          "output_type": "stream",
          "text": [
            "Model: \"sequential_9\"\n",
            "_________________________________________________________________\n",
            "Layer (type)                 Output Shape              Param #   \n",
            "=================================================================\n",
            "vgg16 (Model)                (None, 16, 16, 512)       14714688  \n",
            "_________________________________________________________________\n",
            "flatten_9 (Flatten)          (None, 131072)            0         \n",
            "_________________________________________________________________\n",
            "dense_25 (Dense)             (None, 1024)              134218752 \n",
            "_________________________________________________________________\n",
            "dense_26 (Dense)             (None, 512)               524800    \n",
            "_________________________________________________________________\n",
            "dense_27 (Dense)             (None, 124)               63612     \n",
            "_________________________________________________________________\n",
            "dense_28 (Dense)             (None, 2)                 250       \n",
            "=================================================================\n",
            "Total params: 149,522,102\n",
            "Trainable params: 134,807,414\n",
            "Non-trainable params: 14,714,688\n",
            "_________________________________________________________________\n",
            "None\n"
          ]
        }
      ],
      "source": [
        "print(model.summary())"
      ]
    },
    {
      "cell_type": "code",
      "execution_count": null,
      "metadata": {
        "colab": {
          "base_uri": "https://localhost:8080/",
          "height": 34
        },
        "colab_type": "code",
        "id": "mS1XV-ZURRe8",
        "outputId": "4c741940-8bc4-452d-c4d5-96b7881456ae"
      },
      "outputs": [
        {
          "name": "stdout",
          "output_type": "stream",
          "text": [
            "0\n"
          ]
        }
      ],
      "source": [
        "#the prediction of all the images in the test set 'te_img' using the trained CNN\n",
        "y_pred=lesion_Classifier.predict_classes(data[0])\n",
        "print(y_pred[2])\n",
        "labs=[]\n",
        "#the confusion matrix based on the prediction in y_preds and the true labels stored in the 'te_lab'\n",
        "for i in range(len(data[1])):\n",
        "    if(1 in list(list(data[1])[i])):\n",
        "        labs.append(list(list(data[1])[i]).index(1))\n",
        "    else:\n",
        "        labs.append(0)\n",
        "\n",
        "con_mat = tf.math.confusion_matrix(labels=labs, predictions=y_pred)\n"
      ]
    },
    {
      "cell_type": "code",
      "execution_count": null,
      "metadata": {
        "colab": {
          "base_uri": "https://localhost:8080/",
          "height": 541
        },
        "colab_type": "code",
        "id": "uQps_j3gRT70",
        "outputId": "73e0a28b-fab0-481e-bf36-9370efc58a09"
      },
      "outputs": [
        {
          "name": "stdout",
          "output_type": "stream",
          "text": [
            "[[309   3]\n",
            " [  3 151]]\n"
          ]
        },
        {
          "data": {
            "image/png": "[encoded data removed]",
            "text/plain": [
              "<Figure size 432x288 with 1 Axes>"
            ]
          },
          "metadata": {
            "needs_background": "light",
            "tags": []
          },
          "output_type": "display_data"
        },
        {
          "name": "stdout",
          "output_type": "stream",
          "text": [
            "[0 1 0 0 0 0 0 0 0 0 1 0 1 1 0 1 0 0 0 0 1 1 1 0 0 0 0 1 0 0 0 1 0 0 0 0 0\n",
            " 0 1 1 0 0 0 1 1 0 1 0 1 0 1 0 0 0 0 0 0 0 0 1 0 1 0 0 0 0 1 0 1 0 1 0 0 0\n",
            " 1 1 0 1 0 0 1 1 0 0 1 0 1 0 0 0 0 1 0 0 1 0 1 0 1 0 0 0 0 0 0 1 0 1 1 0 0\n",
            " 0 0 0 0 1 1 0 1 1 0 0 0 0 0 0 0 1 0 1 1 0 0 0 0 0 0 0 0 1 1 0 0 1 1 0 0 1\n",
            " 0 0 0 0 0 0 0 0 0 1 0 0 0 0 0 0 0 1 0 0 1 0 0 1 0 0 0 1 1 1 0 0 0 0 0 0 0\n",
            " 0 1 0 0 0 0 0 0 1 1 1 1 0 1 0 0 1 1 1 1 0 1 0 0 0 0 1 1 0 1 0 0 0 0 0 0 0\n",
            " 0 1 0 1 1 0 0 1 0 0 0 0 0 0 0 0 1 0 0 1 0 0 1 0 1 0 1 0 0 0 1 1 1 0 1 0 0\n",
            " 0 1 0 1 0 1 0 0 0 0 1 0 1 0 0 1 0 1 1 0 0 0 1 1 0 0 1 1 0 1 0 0 0 1 0 0 0\n",
            " 1 0 1 0 0 0 0 0 1 0 1 1 0 1 0 0 0 0 0 0 0 0 0 1 0 1 0 0 0 0 0 1 0 0 1 1 0\n",
            " 1 1 1 1 1 0 0 0 0 0 0 0 0 1 1 1 0 1 0 0 1 0 0 0 0 0 1 0 0 0 1 0 1 0 1 1 1\n",
            " 0 1 1 1 0 0 0 1 0 1 1 0 0 1 0 0 0 1 0 1 0 0 0 0 0 0 1 0 0 1 1 1 0 0 1 0 0\n",
            " 1 0 1 0 0 0 0 1 0 1 0 1 0 1 0 0 1 1 0 0 0 0 0 0 0 0 1 0 0 1 1 0 0 0 0 1 0\n",
            " 1 0 0 0 0 0 0 0 0 0 0 1 0 0 0 0 1 1 0 0 1 0]\n",
            "\n"
          ]
        }
      ],
      "source": [
        "con=con_mat.numpy()\n",
        "\n",
        "print(con)\n",
        "\n",
        "plt.imshow(con)\n",
        "plt.show()\n",
        "print(y_pred)\n",
        "print()"
      ]
    },
    {
      "cell_type": "code",
      "execution_count": null,
      "metadata": {
        "colab": {
          "base_uri": "https://localhost:8080/",
          "height": 105
        },
        "colab_type": "code",
        "id": "7C4CmgmgRX7p",
        "outputId": "9c8ac265-b525-468f-f0b8-f1c7c993204b"
      },
      "outputs": [
        {
          "name": "stderr",
          "output_type": "stream",
          "text": [
            "/usr/local/lib/python3.6/dist-packages/ipykernel_launcher.py:11: RuntimeWarning: overflow encountered in int_scalars\n",
            "  # This is added back by InteractiveShellApp.init_path()\n",
            "/usr/local/lib/python3.6/dist-packages/ipykernel_launcher.py:11: RuntimeWarning: invalid value encountered in power\n",
            "  # This is added back by InteractiveShellApp.init_path()\n"
          ]
        }
      ],
      "source": [
        "#accuracy measurement matrics for the test set using the confusion matrix 'con'\n",
        "fn=con[0][1]\n",
        "tn=con[1][1]\n",
        "tp=con[0][0]\n",
        "fp=con[1][0]\n",
        "sen=tp/(tp+fn)\n",
        "spe=tn/(tn+fp)\n",
        "jac=tp/(tp+fp+fn)\n",
        "dice=(2*tp)/((2*tp)+fp+fn)\n",
        "acc=(tp+tn)/(tp+fn+tn+fp)\n",
        "mcc=((tp*tn)-(fp*fn))/(((tp+fp)*(tp+fn)*(tn+fp)*(tn+fn))**0.5)"
      ]
    },
    {
      "cell_type": "code",
      "execution_count": null,
      "metadata": {
        "colab": {
          "base_uri": "https://localhost:8080/",
          "height": 187
        },
        "colab_type": "code",
        "id": "FZiK5ndsRbNM",
        "outputId": "84e9e4e4-a64d-4a8e-9482-651e11fd008d"
      },
      "outputs": [
        {
          "name": "stdout",
          "output_type": "stream",
          "text": [
            "3 fn\n",
            "151 tn\n",
            "3 fp\n",
            "309 tp\n",
            "0.9903846153846154 sen\n",
            "0.9805194805194806 spe\n",
            "0.9809523809523809 jac\n",
            "0.9903846153846154 dice\n",
            "0.9871244635193133 acc\n",
            "nan mcc\n"
          ]
        }
      ],
      "source": [
        "print(fn,'fn')\n",
        "print(tn,'tn')\n",
        "print(fp,'fp')\n",
        "print(tp,'tp')\n",
        "print(sen,'sen')\n",
        "print(spe,'spe')\n",
        "print(jac,'jac')\n",
        "print(dice,'dice')\n",
        "print(acc,'acc')\n",
        "print(mcc,'mcc')\n"
      ]
    },
    {
      "cell_type": "code",
      "execution_count": null,
      "metadata": {
        "colab": {},
        "colab_type": "code",
        "id": "NJ7IkDKHMMvD"
      },
      "outputs": [],
      "source": [
        "print(te_lab)"
      ]
    },
    {
      "cell_type": "code",
      "execution_count": null,
      "metadata": {
        "colab": {},
        "colab_type": "code",
        "id": "bnwUrLAgzM8C"
      },
      "outputs": [],
      "source": [
        "n=0\n",
        "\n",
        "for i in range(len(te_lab)):\n",
        "    print(list(list(te_lab)[i]))\n",
        "    if(1 in list(list(te_lab)[i])):\n",
        "        if(list(list(te_lab)[i]).index(1)==y_pred[i]):\n",
        "            n=n+1\n",
        "            print(list(list(te_lab)[i]).index(1),'  -  ',y_pred[i])\n",
        "\n",
        "        \n",
        "        else:\n",
        "            print(' / ',list(list(te_lab)[i]).index(1),'  -  ',y_pred[i])\n",
        "            plt.imshow(te_img[i])\n",
        "            plt.show()\n",
        "print((n/len(te_lab))*100)    "
      ]
    },
    {
      "cell_type": "markdown",
      "metadata": {
        "colab_type": "text",
        "id": "xAQX_LYL2D2Q"
      },
      "source": [
        "# **Testing phase**\n"
      ]
    },
    {
      "cell_type": "code",
      "execution_count": null,
      "metadata": {
        "colab": {
          "base_uri": "https://localhost:8080/",
          "height": 521
        },
        "colab_type": "code",
        "id": "xfpEC6uvYK_8",
        "outputId": "a15dc657-c30e-476e-d84c-c287536bb064"
      },
      "outputs": [
        {
          "data": {
            "image/png": "[encoded data removed]",
            "text/plain": [
              "<Figure size 432x288 with 1 Axes>"
            ]
          },
          "metadata": {
            "needs_background": "light",
            "tags": []
          },
          "output_type": "display_data"
        },
        {
          "data": {
            "image/png": "[encoded data removed]",
            "text/plain": [
              "<Figure size 432x288 with 1 Axes>"
            ]
          },
          "metadata": {
            "needs_background": "light",
            "tags": []
          },
          "output_type": "display_data"
        }
      ],
      "source": [
        "im = cv2.imread('/content/14.png')\n",
        "im_rev = cv2.bitwise_not(im)\n",
        "plt.imshow(im)\n",
        "plt.show()\n",
        "plt.imshow(im_rev)\n",
        "plt.show()"
      ]
    }
  ],
  "metadata": {
    "accelerator": "GPU",
    "colab": {
      "collapsed_sections": [],
      "machine_shape": "hm",
      "name": "parkinsons final stage",
      "provenance": []
    },
    "kernelspec": {
      "display_name": "Python 3",
      "name": "python3"
    },
    "language_info": {
      "codemirror_mode": {
        "name": "ipython",
        "version": 3
      },
      "file_extension": ".py",
      "mimetype": "text/x-python",
      "name": "python",
      "nbconvert_exporter": "python",
      "pygments_lexer": "ipython3",
      "version": "3.7.3"
    }
  },
  "nbformat": 4,
  "nbformat_minor": 0
}
